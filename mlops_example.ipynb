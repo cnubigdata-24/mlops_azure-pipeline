{
  "cells": [
    {
      "cell_type": "code",
      "source": [
        "pip install azureml-opendatasets"
      ],
      "outputs": [
        {
          "output_type": "stream",
          "name": "stdout",
          "text": "Requirement already satisfied: azure-ai-ml in /anaconda/envs/azureml_py310_sdkv2/lib/python3.10/site-packages (1.20.0)\nRequirement already satisfied: azure-identity in /anaconda/envs/azureml_py310_sdkv2/lib/python3.10/site-packages (1.18.0)\nRequirement already satisfied: pyyaml>=5.1.0 in /anaconda/envs/azureml_py310_sdkv2/lib/python3.10/site-packages (from azure-ai-ml) (6.0.2)\nRequirement already satisfied: msrest>=0.6.18 in /anaconda/envs/azureml_py310_sdkv2/lib/python3.10/site-packages (from azure-ai-ml) (0.7.1)\nRequirement already satisfied: azure-core>=1.23.0 in /anaconda/envs/azureml_py310_sdkv2/lib/python3.10/site-packages (from azure-ai-ml) (1.31.0)\nRequirement already satisfied: azure-mgmt-core>=1.3.0 in /anaconda/envs/azureml_py310_sdkv2/lib/python3.10/site-packages (from azure-ai-ml) (1.4.0)\nRequirement already satisfied: marshmallow>=3.5 in /anaconda/envs/azureml_py310_sdkv2/lib/python3.10/site-packages (from azure-ai-ml) (3.22.0)\nRequirement already satisfied: jsonschema>=4.0.0 in /anaconda/envs/azureml_py310_sdkv2/lib/python3.10/site-packages (from azure-ai-ml) (4.23.0)\nRequirement already satisfied: tqdm in /anaconda/envs/azureml_py310_sdkv2/lib/python3.10/site-packages (from azure-ai-ml) (4.66.5)\nRequirement already satisfied: strictyaml in /anaconda/envs/azureml_py310_sdkv2/lib/python3.10/site-packages (from azure-ai-ml) (1.7.3)\nRequirement already satisfied: colorama in /anaconda/envs/azureml_py310_sdkv2/lib/python3.10/site-packages (from azure-ai-ml) (0.4.6)\nRequirement already satisfied: pyjwt in /anaconda/envs/azureml_py310_sdkv2/lib/python3.10/site-packages (from azure-ai-ml) (2.9.0)\nRequirement already satisfied: azure-storage-blob>=12.10.0 in /anaconda/envs/azureml_py310_sdkv2/lib/python3.10/site-packages (from azure-ai-ml) (12.23.0)\nRequirement already satisfied: azure-storage-file-share in /anaconda/envs/azureml_py310_sdkv2/lib/python3.10/site-packages (from azure-ai-ml) (12.18.0)\nRequirement already satisfied: azure-storage-file-datalake>=12.2.0 in /anaconda/envs/azureml_py310_sdkv2/lib/python3.10/site-packages (from azure-ai-ml) (12.17.0)\nRequirement already satisfied: pydash>=6.0.0 in /anaconda/envs/azureml_py310_sdkv2/lib/python3.10/site-packages (from azure-ai-ml) (8.0.3)\nRequirement already satisfied: isodate in /anaconda/envs/azureml_py310_sdkv2/lib/python3.10/site-packages (from azure-ai-ml) (0.6.1)\nRequirement already satisfied: azure-common>=1.1 in /anaconda/envs/azureml_py310_sdkv2/lib/python3.10/site-packages (from azure-ai-ml) (1.1.28)\nRequirement already satisfied: typing-extensions in /anaconda/envs/azureml_py310_sdkv2/lib/python3.10/site-packages (from azure-ai-ml) (4.12.2)\nRequirement already satisfied: opencensus-ext-azure in /anaconda/envs/azureml_py310_sdkv2/lib/python3.10/site-packages (from azure-ai-ml) (1.1.13)\nRequirement already satisfied: opencensus-ext-logging in /anaconda/envs/azureml_py310_sdkv2/lib/python3.10/site-packages (from azure-ai-ml) (0.1.1)\nRequirement already satisfied: cryptography>=2.5 in /anaconda/envs/azureml_py310_sdkv2/lib/python3.10/site-packages (from azure-identity) (43.0.1)\nRequirement already satisfied: msal>=1.30.0 in /anaconda/envs/azureml_py310_sdkv2/lib/python3.10/site-packages (from azure-identity) (1.31.0)\nRequirement already satisfied: msal-extensions>=1.2.0 in /anaconda/envs/azureml_py310_sdkv2/lib/python3.10/site-packages (from azure-identity) (1.2.0)\nRequirement already satisfied: requests>=2.21.0 in /anaconda/envs/azureml_py310_sdkv2/lib/python3.10/site-packages (from azure-core>=1.23.0->azure-ai-ml) (2.32.3)\nRequirement already satisfied: six>=1.11.0 in /anaconda/envs/azureml_py310_sdkv2/lib/python3.10/site-packages (from azure-core>=1.23.0->azure-ai-ml) (1.16.0)\nRequirement already satisfied: cffi>=1.12 in /anaconda/envs/azureml_py310_sdkv2/lib/python3.10/site-packages (from cryptography>=2.5->azure-identity) (1.17.1)\nRequirement already satisfied: attrs>=22.2.0 in /anaconda/envs/azureml_py310_sdkv2/lib/python3.10/site-packages (from jsonschema>=4.0.0->azure-ai-ml) (24.2.0)\nRequirement already satisfied: jsonschema-specifications>=2023.03.6 in /anaconda/envs/azureml_py310_sdkv2/lib/python3.10/site-packages (from jsonschema>=4.0.0->azure-ai-ml) (2023.12.1)\nRequirement already satisfied: referencing>=0.28.4 in /anaconda/envs/azureml_py310_sdkv2/lib/python3.10/site-packages (from jsonschema>=4.0.0->azure-ai-ml) (0.35.1)\nRequirement already satisfied: rpds-py>=0.7.1 in /anaconda/envs/azureml_py310_sdkv2/lib/python3.10/site-packages (from jsonschema>=4.0.0->azure-ai-ml) (0.20.0)\nRequirement already satisfied: packaging>=17.0 in /anaconda/envs/azureml_py310_sdkv2/lib/python3.10/site-packages (from marshmallow>=3.5->azure-ai-ml) (24.1)\nRequirement already satisfied: portalocker<3,>=1.4 in /anaconda/envs/azureml_py310_sdkv2/lib/python3.10/site-packages (from msal-extensions>=1.2.0->azure-identity) (2.10.1)\nRequirement already satisfied: certifi>=2017.4.17 in /anaconda/envs/azureml_py310_sdkv2/lib/python3.10/site-packages (from msrest>=0.6.18->azure-ai-ml) (2024.8.30)\nRequirement already satisfied: requests-oauthlib>=0.5.0 in /anaconda/envs/azureml_py310_sdkv2/lib/python3.10/site-packages (from msrest>=0.6.18->azure-ai-ml) (2.0.0)\nRequirement already satisfied: opencensus<1.0.0,>=0.11.4 in /anaconda/envs/azureml_py310_sdkv2/lib/python3.10/site-packages (from opencensus-ext-azure->azure-ai-ml) (0.11.4)\nRequirement already satisfied: psutil>=5.6.3 in /anaconda/envs/azureml_py310_sdkv2/lib/python3.10/site-packages (from opencensus-ext-azure->azure-ai-ml) (6.0.0)\nRequirement already satisfied: python-dateutil>=2.6.0 in /anaconda/envs/azureml_py310_sdkv2/lib/python3.10/site-packages (from strictyaml->azure-ai-ml) (2.9.0)\nRequirement already satisfied: pycparser in /anaconda/envs/azureml_py310_sdkv2/lib/python3.10/site-packages (from cffi>=1.12->cryptography>=2.5->azure-identity) (2.22)\nRequirement already satisfied: opencensus-context>=0.1.3 in /anaconda/envs/azureml_py310_sdkv2/lib/python3.10/site-packages (from opencensus<1.0.0,>=0.11.4->opencensus-ext-azure->azure-ai-ml) (0.1.3)\nRequirement already satisfied: google-api-core<3.0.0,>=1.0.0 in /anaconda/envs/azureml_py310_sdkv2/lib/python3.10/site-packages (from opencensus<1.0.0,>=0.11.4->opencensus-ext-azure->azure-ai-ml) (2.20.0)\nRequirement already satisfied: charset-normalizer<4,>=2 in /anaconda/envs/azureml_py310_sdkv2/lib/python3.10/site-packages (from requests>=2.21.0->azure-core>=1.23.0->azure-ai-ml) (3.3.2)\nRequirement already satisfied: idna<4,>=2.5 in /anaconda/envs/azureml_py310_sdkv2/lib/python3.10/site-packages (from requests>=2.21.0->azure-core>=1.23.0->azure-ai-ml) (3.10)\nRequirement already satisfied: urllib3<3,>=1.21.1 in /anaconda/envs/azureml_py310_sdkv2/lib/python3.10/site-packages (from requests>=2.21.0->azure-core>=1.23.0->azure-ai-ml) (2.2.3)\nRequirement already satisfied: oauthlib>=3.0.0 in /anaconda/envs/azureml_py310_sdkv2/lib/python3.10/site-packages (from requests-oauthlib>=0.5.0->msrest>=0.6.18->azure-ai-ml) (3.2.2)\nRequirement already satisfied: googleapis-common-protos<2.0.dev0,>=1.56.2 in /anaconda/envs/azureml_py310_sdkv2/lib/python3.10/site-packages (from google-api-core<3.0.0,>=1.0.0->opencensus<1.0.0,>=0.11.4->opencensus-ext-azure->azure-ai-ml) (1.65.0)\nRequirement already satisfied: protobuf!=3.20.0,!=3.20.1,!=4.21.0,!=4.21.1,!=4.21.2,!=4.21.3,!=4.21.4,!=4.21.5,<6.0.0.dev0,>=3.19.5 in /anaconda/envs/azureml_py310_sdkv2/lib/python3.10/site-packages (from google-api-core<3.0.0,>=1.0.0->opencensus<1.0.0,>=0.11.4->opencensus-ext-azure->azure-ai-ml) (5.28.2)\nRequirement already satisfied: proto-plus<2.0.0dev,>=1.22.3 in /anaconda/envs/azureml_py310_sdkv2/lib/python3.10/site-packages (from google-api-core<3.0.0,>=1.0.0->opencensus<1.0.0,>=0.11.4->opencensus-ext-azure->azure-ai-ml) (1.24.0)\nRequirement already satisfied: google-auth<3.0.dev0,>=2.14.1 in /anaconda/envs/azureml_py310_sdkv2/lib/python3.10/site-packages (from google-api-core<3.0.0,>=1.0.0->opencensus<1.0.0,>=0.11.4->opencensus-ext-azure->azure-ai-ml) (2.35.0)\nRequirement already satisfied: cachetools<6.0,>=2.0.0 in /anaconda/envs/azureml_py310_sdkv2/lib/python3.10/site-packages (from google-auth<3.0.dev0,>=2.14.1->google-api-core<3.0.0,>=1.0.0->opencensus<1.0.0,>=0.11.4->opencensus-ext-azure->azure-ai-ml) (5.5.0)\nRequirement already satisfied: pyasn1-modules>=0.2.1 in /anaconda/envs/azureml_py310_sdkv2/lib/python3.10/site-packages (from google-auth<3.0.dev0,>=2.14.1->google-api-core<3.0.0,>=1.0.0->opencensus<1.0.0,>=0.11.4->opencensus-ext-azure->azure-ai-ml) (0.4.1)\nRequirement already satisfied: rsa<5,>=3.1.4 in /anaconda/envs/azureml_py310_sdkv2/lib/python3.10/site-packages (from google-auth<3.0.dev0,>=2.14.1->google-api-core<3.0.0,>=1.0.0->opencensus<1.0.0,>=0.11.4->opencensus-ext-azure->azure-ai-ml) (4.9)\nRequirement already satisfied: pyasn1<0.7.0,>=0.4.6 in /anaconda/envs/azureml_py310_sdkv2/lib/python3.10/site-packages (from pyasn1-modules>=0.2.1->google-auth<3.0.dev0,>=2.14.1->google-api-core<3.0.0,>=1.0.0->opencensus<1.0.0,>=0.11.4->opencensus-ext-azure->azure-ai-ml) (0.6.1)\nNote: you may need to restart the kernel to use updated packages.\n"
        }
      ],
      "execution_count": 1,
      "metadata": {
        "gather": {
          "logged": 1743420898356
        },
        "jupyter": {
          "outputs_hidden": true
        }
      }
    },
    {
      "cell_type": "code",
      "source": [
        "from azureml.core import Workspace\n",
        "ws = Workspace.from_config()\n",
        "print('Workspace name: ' + ws.name, \n",
        "      'Azure region: ' + ws.location, \n",
        "      'Subscription id: ' + ws.subscription_id, \n",
        "      'Resource group: ' + ws.resource_group, sep='\\\\n')\n"
      ],
      "outputs": [
        {
          "output_type": "stream",
          "name": "stdout",
          "text": "Workspace name: mlops-pipeline\\nAzure region: eastus\\nSubscription id: <your subscription id>\\nResource group: rg-acr-2025-111\n"
        }
      ],
      "execution_count": 25,
      "metadata": {
        "gather": {
          "logged": 1743422506642
        },
        "jupyter": {
          "outputs_hidden": true
        }
      }
    },
    {
      "cell_type": "code",
      "source": [
        "from azureml.core import Experiment\n",
        "experiment = Experiment(workspace=ws, name=\"diabetes-experiment\")\n"
      ],
      "outputs": [],
      "execution_count": 26,
      "metadata": {
        "gather": {
          "logged": 1743422513635
        }
      }
    },
    {
      "cell_type": "code",
      "source": [
        "# 데이터셋 준비 \n",
        "\n",
        "from azureml.opendatasets import Diabetes\n",
        "from sklearn.model_selection import train_test_split\n",
        "\n",
        "x_df = Diabetes.get_tabular_dataset().to_pandas_dataframe().dropna()\n",
        "y_df = x_df.pop(\"Y\")\n",
        "\n",
        "X_train, X_test, y_train, y_test = train_test_split(x_df, y_df, test_size=0.2, random_state=66)\n",
        "\n",
        "print(X_train)\n"
      ],
      "outputs": [
        {
          "output_type": "stream",
          "name": "stdout",
          "text": "{'infer_column_types': 'False', 'activity': 'to_pandas_dataframe'}\n{'infer_column_types': 'False', 'activity': 'to_pandas_dataframe', 'activityApp': 'TabularDataset'}\n     AGE  SEX   BMI     BP   S1     S2    S3    S4      S5   S6\n440   36    1  30.0   95.0  201  125.2  42.0  4.79  5.1299   85\n389   47    2  26.5   70.0  181  104.8  63.0  3.00  4.1897   70\n5     23    1  22.6   89.0  139   64.8  61.0  2.00  4.1897   68\n289   28    2  31.5   83.0  228  149.4  38.0  6.00  5.3132   83\n101   53    2  22.2  113.0  197  115.2  67.0  3.00  4.3041  100\n..   ...  ...   ...    ...  ...    ...   ...   ...     ...  ...\n122   62    2  33.9  101.0  221  156.4  35.0  6.00  4.9972  103\n51    65    2  27.9  103.0  159   96.8  42.0  4.00  4.6151   86\n119   53    1  22.0   94.0  175   88.0  59.0  3.00  4.9416   98\n316   53    2  27.7   95.0  190  101.8  41.0  5.00  5.4638  101\n20    35    1  21.1   82.0  156   87.8  50.0  3.00  4.5109   95\n\n[353 rows x 10 columns]\n"
        }
      ],
      "execution_count": 27,
      "metadata": {
        "gather": {
          "logged": 1743422521951
        }
      }
    },
    {
      "cell_type": "code",
      "source": [
        "# 모델 학습/로깅, 모델파일 업로드\n",
        "from sklearn.linear_model import Ridge\n",
        "from sklearn.metrics import mean_squared_error\n",
        "import joblib\n",
        "import math\n",
        "\n",
        "alphas = [0.1, 0.2, 0.3, 0.4, 0.5, 0.6, 0.7, 0.8, 0.9, 1.0]\n",
        "\n",
        "for alpha in alphas:\n",
        "    run = experiment.start_logging()\n",
        "    run.log(\"alpha_value\", alpha)\n",
        "\n",
        "    model = Ridge(alpha=alpha)\n",
        "    model.fit(X=X_train, y=y_train)\n",
        "\n",
        "    y_pred = model.predict(X=X_test)\n",
        "    \n",
        "    rmse = math.sqrt(mean_squared_error(y_true=y_test, y_pred=y_pred))\n",
        "    run.log(\"rmse\", rmse)\n",
        "\n",
        "    model_name = \"model_alpha_\" + str(alpha) + \".pkl\"\n",
        "    filename = \"outputs/\" + model_name\n",
        "\n",
        "    joblib.dump(value=model, filename=filename)\n",
        "    run.upload_file(name=model_name, path_or_stream=filename)\n",
        "    run.complete()\n",
        "\n",
        "    print(f\"{alpha} exp completed\")\n"
      ],
      "outputs": [
        {
          "output_type": "stream",
          "name": "stdout",
          "text": "0.1 exp completed\n0.2 exp completed\n0.3 exp completed\n0.4 exp completed\n0.5 exp completed\n0.6 exp completed\n0.7 exp completed\n0.8 exp completed\n0.9 exp completed\n1.0 exp completed\n"
        }
      ],
      "execution_count": 28,
      "metadata": {
        "gather": {
          "logged": 1743422613647
        }
      }
    },
    {
      "cell_type": "code",
      "source": [
        "experiment"
      ],
      "outputs": [
        {
          "output_type": "execute_result",
          "execution_count": 29,
          "data": {
            "text/plain": "Experiment(Name: diabetes-experiment,\nWorkspace: mlops-pipeline)",
            "text/html": "<table style=\"width:100%\"><tr><th>Name</th><th>Workspace</th><th>Report Page</th><th>Docs Page</th></tr><tr><td>diabetes-experiment</td><td>mlops-pipeline</td><td><a href=\"https://ml.azure.com/experiments/id/3f0a4db8-ba76-4009-82ff-a99181ec56fc?wsid=/subscriptions/<your subscription id>/resourcegroups/rg-acr-2025-111/workspaces/mlops-pipeline&amp;tid=83b3ecf9-9fbf-4d46-a222-d78c226db7bc\" target=\"_blank\" rel=\"noopener\">Link to Azure Machine Learning studio</a></td><td><a href=\"https://docs.microsoft.com/en-us/python/api/azureml-core/azureml.core.experiment.Experiment?view=azure-ml-py\" target=\"_blank\" rel=\"noopener\">Link to Documentation</a></td></tr></table>"
          },
          "metadata": {}
        }
      ],
      "execution_count": 29,
      "metadata": {
        "gather": {
          "logged": 1743422613747
        }
      }
    },
    {
      "cell_type": "code",
      "source": [
        "# Best model 탐색 후 다운로드\n",
        "\n",
        "minimum_rmse_runid = None\n",
        "minimum_rmse = None\n",
        "\n",
        "for run in experiment.get_runs():\n",
        "    run_metrics = run.get_metrics()\n",
        "    run_details = run.get_details()\n",
        "    # each logged metric becomes a key in this returned dict\n",
        "    run_rmse = run_metrics[\"rmse\"]\n",
        "    run_id = run_details[\"runId\"]\n",
        "    \n",
        "    if minimum_rmse is None:\n",
        "        minimum_rmse = run_rmse\n",
        "        minimum_rmse_runid = run_id\n",
        "    else:\n",
        "        if run_rmse < minimum_rmse:\n",
        "            minimum_rmse = run_rmse\n",
        "            minimum_rmse_runid = run_id\n",
        "\n",
        "print(\"Best run_id: \" + minimum_rmse_runid)\n",
        "print(\"Best run_id rmse: \" + str(minimum_rmse))\n",
        "from azureml.core import Run\n",
        "best_run = Run(experiment=experiment, run_id=minimum_rmse_runid)\n",
        "print(best_run.get_file_names())\n",
        "best_run.download_file(name=str(best_run.get_file_names()[0]))\n"
      ],
      "outputs": [
        {
          "output_type": "stream",
          "name": "stdout",
          "text": "Best run_id: bbee1ab1-25ec-47c1-bf1d-5ea8ab0212ba\nBest run_id rmse: 56.60520331339142\n['model_alpha_0.1.pkl', 'outputs/model_alpha_0.1.pkl']\n"
        }
      ],
      "execution_count": 30,
      "metadata": {
        "gather": {
          "logged": 1743422650182
        }
      }
    },
    {
      "cell_type": "code",
      "source": [
        "# DataStore 에 Input/Output 데이터셋 등록\n",
        "\n",
        "import numpy as np\n",
        "from azureml.core import Dataset\n",
        "\n",
        "np.savetxt('features.csv', X_train, delimiter=',')\n",
        "np.savetxt('labels.csv', y_train, delimiter=',')\n",
        "\n",
        "datastore = ws.get_default_datastore()\n",
        "datastore.upload_files(files=['./features.csv', './labels.csv'],\n",
        "                       target_path='diabetes-experiment/',\n",
        "                       overwrite=True)\n",
        "\n",
        "input_dataset = Dataset.Tabular.from_delimited_files(path=[(datastore, 'diabetes-experiment/features.csv')])\n",
        "output_dataset = Dataset.Tabular.from_delimited_files(path=[(datastore, 'diabetes-experiment/labels.csv')])\n"
      ],
      "outputs": [
        {
          "output_type": "stream",
          "name": "stdout",
          "text": "Uploading an estimated of 2 files\nUploading ./features.csv\nUploaded ./features.csv, 1 files out of an estimated total of 2\nUploading ./labels.csv\nUploaded ./labels.csv, 2 files out of an estimated total of 2\nUploaded 2 files\n"
        }
      ],
      "execution_count": 31,
      "metadata": {
        "gather": {
          "logged": 1743422655118
        }
      }
    },
    {
      "cell_type": "code",
      "source": [
        "# Best model 등록\n",
        "\n",
        "import sklearn\n",
        "\n",
        "from azureml.core import Model\n",
        "from azureml.core.resource_configuration import ResourceConfiguration\n",
        "\n",
        "model = Model.register(workspace=ws,\n",
        "                       model_name='diabetes-experiment-model',\n",
        "                       model_path=f\"./{str(best_run.get_file_names()[0])}\", \n",
        "                       model_framework=Model.Framework.SCIKITLEARN,  \n",
        "                       model_framework_version=sklearn.__version__,  \n",
        "                       sample_input_dataset=input_dataset,\n",
        "                       sample_output_dataset=output_dataset,\n",
        "                       resource_configuration=ResourceConfiguration(cpu=1, memory_in_gb=0.5),\n",
        "                       description='Ridge regression model to predict diabetes progression.',\n",
        "                       tags={'area': 'diabetes', 'type': 'regression'})\n",
        "\n",
        "print('Name:', model.name)\n",
        "print('Version:', model.version)\n"
      ],
      "outputs": [
        {
          "output_type": "stream",
          "name": "stdout",
          "text": "Registering model diabetes-experiment-model\nName: diabetes-experiment-model\nVersion: 4\n"
        }
      ],
      "execution_count": 32,
      "metadata": {
        "gather": {
          "logged": 1743422661642
        }
      }
    },
    {
      "cell_type": "code",
      "source": [
        "# 모델 배포\n",
        "\n",
        "from azureml.core.webservice import AciWebservice\n",
        "from azureml.core.model import InferenceConfig\n",
        "from azureml.core.environment import Environment\n",
        "\n",
        "# Environment 설정\n",
        "env = Environment.get(workspace=ws, name=\"AzureML-sklearn-0.24-ubuntu18.04-py37-cpu\")\n",
        "\n",
        "inference_config = InferenceConfig(\n",
        "    entry_script=\"src/score.py\",\n",
        "    environment=env\n",
        ")\n",
        "\n",
        "# ACI 설정\n",
        "deployment_config = AciWebservice.deploy_configuration(cpu_cores=1, memory_gb=1)\n",
        "\n",
        "service_name = 'diabetes-service'\n",
        "\n",
        "from azureml.core.webservice import Webservice\n",
        "# 기존 서비스 삭제\n",
        "try:\n",
        "    service = Webservice(workspace=ws, name=service_name)\n",
        "    service.delete()\n",
        "    print(\"기존 서비스 삭제 완료\")\n",
        "except Exception as e:\n",
        "    print(\"기존 서비스가 없거나 이미 삭제됨:\", e)\n",
        "\n",
        "\n",
        "# Deploy Model\n",
        "service = Model.deploy(\n",
        "    workspace=ws,\n",
        "    name=service_name,\n",
        "    models=[model],\n",
        "    inference_config=inference_config,\n",
        "    deployment_config=deployment_config\n",
        ")\n",
        "\n",
        "service.wait_for_deployment(show_output=True)\n",
        "\n",
        "# Azure ML ACR(Azure Container Registry) Access Error => ACR Access key: Enable Admin User \n"
      ],
      "outputs": [
        {
          "output_type": "stream",
          "name": "stdout",
          "text": "Running\n2025-03-31 12:29:16+00:00 Check and wait for operation (bd7dbafb-3296-46eb-8e02-dbb704bc1e09) to finish.Tips: You can try get_logs(): https://aka.ms/debugimage#dockerlog or local deployment: https://aka.ms/debugimage#debug-locally to debug if deployment takes longer than 10 minutes.\nRunning\n2025-03-31 12:29:30+00:00 Registering the environment.\n2025-03-31 12:29:30+00:00 Use the existing image.\n2025-03-31 12:29:33+00:00 Submitting deployment to compute.\n2025-03-31 12:29:41+00:00 Checking the status of deployment diabetes-service..\n2025-03-31 12:31:20+00:00 Checking the status of inference endpoint diabetes-service.\nSucceeded\nACI service creation operation finished, operation \"Succeeded\"\n"
        },
        {
          "output_type": "stream",
          "name": "stderr",
          "text": "/tmp/ipykernel_213173/1982915657.py:29: FutureWarning: azureml.core.model:\nTo leverage new model deployment capabilities, AzureML recommends using CLI/SDK v2 to deploy models as online endpoint, \nplease refer to respective documentations \nhttps://docs.microsoft.com/azure/machine-learning/how-to-deploy-managed-online-endpoints /\nhttps://docs.microsoft.com/azure/machine-learning/how-to-attach-kubernetes-anywhere \nFor more information on migration, see https://aka.ms/acimoemigration \nTo disable CLI/SDK v1 deprecation warning set AZUREML_LOG_DEPRECATION_WARNING_ENABLED to 'False'\n  service = Model.deploy(\n"
        }
      ],
      "execution_count": 42,
      "metadata": {
        "gather": {
          "logged": 1743424286690
        }
      }
    },
    {
      "cell_type": "code",
      "source": [
        "# 배포 서비스 테스트 : 노트북\n",
        "print(\"\\n===== 모델 예측 테스트 =====\")\n",
        "\n",
        "import json\n",
        "\n",
        "test_samples = X_test[0:2].values.tolist()\n",
        "print(f\"입력 데이터: {test_samples}\")\n",
        "\n",
        "input_payload = json.dumps({\n",
        "    'data': test_samples\n",
        "})\n",
        "\n",
        "# 예측 실행\n",
        "print(\"예측 요청 중...\")\n",
        "output = service.run(input_payload)\n",
        "\n",
        "print(\"예측 결과:\")\n",
        "print(output)"
      ],
      "outputs": [
        {
          "output_type": "stream",
          "name": "stdout",
          "text": "\n===== 모델 예측 테스트 =====\n입력 데이터: [[54.0, 2.0, 27.3, 100.0, 200.0, 144.0, 33.0, 6.0, 4.7449, 76.0], [64.0, 2.0, 27.3, 109.0, 186.0, 107.6, 38.0, 5.0, 5.3083, 99.0]]\n예측 요청 중...\n예측 결과:\n[162.52293958544317, 208.21988024472398]\n"
        }
      ],
      "execution_count": 46,
      "metadata": {
        "gather": {
          "logged": 1743424448804
        }
      }
    },
    {
      "cell_type": "code",
      "source": [
        "# 10. 등록된 모델 목록 확인\n",
        "print(\"\\n===== 등록된 모델 목록 =====\")\n",
        "\n",
        "registered_models = ml_client.models.list()\n",
        "for model in registered_models:\n",
        "    print(f\"Name: {model.name}, Version: {model.version}, Created: {model.creation_context.created_at}\")"
      ],
      "outputs": [
        {
          "output_type": "stream",
          "name": "stdout",
          "text": "\n===== 등록된 모델 목록 =====\nName: model, Version: None, Created: 2025-03-31 09:38:24.225932+00:00\nName: scaler, Version: None, Created: 2025-03-31 09:38:27.510159+00:00\nName: diabetes-experiment-model, Version: None, Created: 2025-03-31 10:18:03.105315+00:00\nName: diabetes-model-v2, Version: None, Created: 2025-03-31 11:28:21.526966+00:00\n"
        }
      ],
      "execution_count": 44,
      "metadata": {
        "gather": {
          "logged": 1743424415117
        }
      }
    },
    {
      "cell_type": "code",
      "source": [
        "# 11. 리소스 정리 (선택 사항)\n",
        "# print(\"\\n===== 리소스 정리 =====\")\n",
        "# print(f\"엔드포인트 {endpoint_name} 삭제 중...\")\n",
        "# ml_client.online_endpoints.begin_delete(name=endpoint_name)\n",
        "# print(\"엔드포인트 삭제 완료\")"
      ],
      "outputs": [],
      "execution_count": null,
      "metadata": {}
    },
    {
      "cell_type": "code",
      "source": [],
      "outputs": [],
      "execution_count": null,
      "metadata": {}
    }
  ],
  "metadata": {
    "kernelspec": {
      "name": "python310-sdkv2",
      "language": "python",
      "display_name": "Python 3.10 - SDK v2"
    },
    "language_info": {
      "name": "python",
      "version": "3.10.14",
      "mimetype": "text/x-python",
      "codemirror_mode": {
        "name": "ipython",
        "version": 3
      },
      "pygments_lexer": "ipython3",
      "nbconvert_exporter": "python",
      "file_extension": ".py"
    },
    "kernel_info": {
      "name": "python310-sdkv2"
    },
    "microsoft": {
      "host": {
        "AzureML": {
          "notebookHasBeenCompleted": true
        }
      }
    },
    "nteract": {
      "version": "nteract-front-end@1.0.0"
    }
  },
  "nbformat": 4,
  "nbformat_minor": 2
}
